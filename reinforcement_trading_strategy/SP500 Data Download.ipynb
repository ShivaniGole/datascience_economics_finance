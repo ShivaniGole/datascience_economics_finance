{
 "cells": [
  {
   "cell_type": "code",
   "execution_count": 1,
   "id": "4df42f3c",
   "metadata": {},
   "outputs": [
    {
     "name": "stdout",
     "output_type": "stream",
     "text": [
      "                                  Open         High          Low        Close  \\\n",
      "Date                                                                            \n",
      "1927-12-30 00:00:00-05:00    17.660000    17.660000    17.660000    17.660000   \n",
      "1928-01-03 00:00:00-05:00    17.760000    17.760000    17.760000    17.760000   \n",
      "1928-01-04 00:00:00-05:00    17.719999    17.719999    17.719999    17.719999   \n",
      "1928-01-05 00:00:00-05:00    17.549999    17.549999    17.549999    17.549999   \n",
      "1928-01-06 00:00:00-05:00    17.660000    17.660000    17.660000    17.660000   \n",
      "...                                ...          ...          ...          ...   \n",
      "2024-12-16 00:00:00-05:00  6063.790039  6085.189941  6059.140137  6074.080078   \n",
      "2024-12-17 00:00:00-05:00  6052.549805  6057.680176  6035.189941  6050.609863   \n",
      "2024-12-18 00:00:00-05:00  6047.649902  6070.669922  5867.790039  5872.160156   \n",
      "2024-12-19 00:00:00-05:00  5912.709961  5935.520020  5866.069824  5867.080078   \n",
      "2024-12-20 00:00:00-05:00  5842.000000  5982.060059  5832.299805  5930.850098   \n",
      "\n",
      "                               Volume  Dividends  Stock Splits  \n",
      "Date                                                            \n",
      "1927-12-30 00:00:00-05:00           0        0.0           0.0  \n",
      "1928-01-03 00:00:00-05:00           0        0.0           0.0  \n",
      "1928-01-04 00:00:00-05:00           0        0.0           0.0  \n",
      "1928-01-05 00:00:00-05:00           0        0.0           0.0  \n",
      "1928-01-06 00:00:00-05:00           0        0.0           0.0  \n",
      "...                               ...        ...           ...  \n",
      "2024-12-16 00:00:00-05:00  4391100000        0.0           0.0  \n",
      "2024-12-17 00:00:00-05:00  4544500000        0.0           0.0  \n",
      "2024-12-18 00:00:00-05:00  5246960000        0.0           0.0  \n",
      "2024-12-19 00:00:00-05:00  4896880000        0.0           0.0  \n",
      "2024-12-20 00:00:00-05:00  8223220000        0.0           0.0  \n",
      "\n",
      "[24361 rows x 7 columns]\n"
     ]
    }
   ],
   "source": [
    "import yfinance as yf\n",
    "\n",
    "# Define the ticker symbol\n",
    "ticker = \"^GSPC\"\n",
    "\n",
    "# Fetch historical data\n",
    "data = yf.Ticker(ticker).history(period=\"max\")  # Adjust period as needed (e.g., '1mo', '1y', '5y')\n",
    "print(data)\n"
   ]
  },
  {
   "cell_type": "code",
   "execution_count": 2,
   "id": "1943cca2",
   "metadata": {},
   "outputs": [
    {
     "name": "stdout",
     "output_type": "stream",
     "text": [
      "Data has been saved to sp500_historical_data.csv\n"
     ]
    }
   ],
   "source": [
    "csv_filename = \"sp500_historical_data.csv\"\n",
    "data.to_csv(csv_filename)\n",
    "\n",
    "print(f\"Data has been saved to {csv_filename}\")"
   ]
  }
 ],
 "metadata": {
  "kernelspec": {
   "display_name": "Python 3 (ipykernel)",
   "language": "python",
   "name": "python3"
  },
  "language_info": {
   "codemirror_mode": {
    "name": "ipython",
    "version": 3
   },
   "file_extension": ".py",
   "mimetype": "text/x-python",
   "name": "python",
   "nbconvert_exporter": "python",
   "pygments_lexer": "ipython3",
   "version": "3.9.13"
  }
 },
 "nbformat": 4,
 "nbformat_minor": 5
}
